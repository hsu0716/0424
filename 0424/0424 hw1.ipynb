{
 "cells": [
  {
   "cell_type": "code",
   "execution_count": 6,
   "metadata": {},
   "outputs": [
    {
     "name": "stdout",
     "output_type": "stream",
     "text": [
      "輸入成績:\n",
      "60\n",
      "及格\n"
     ]
    }
   ],
   "source": [
    "print('輸入成績:')\n",
    "x=int(input())\n",
    "score=x\n",
    "if score>=80:\n",
    "    print(\"優良\")\n",
    "elif score>=60:\n",
    "    print(\"及格\")\n",
    "elif score<60:\n",
    "    print(\"不及格\")\n",
    "else:\n",
    "    print(\"輸入成績未知\")"
   ]
  },
  {
   "cell_type": "code",
   "execution_count": null,
   "metadata": {},
   "outputs": [],
   "source": []
  }
 ],
 "metadata": {
  "kernelspec": {
   "display_name": "Python 3",
   "language": "python",
   "name": "python3"
  },
  "language_info": {
   "codemirror_mode": {
    "name": "ipython",
    "version": 3
   },
   "file_extension": ".py",
   "mimetype": "text/x-python",
   "name": "python",
   "nbconvert_exporter": "python",
   "pygments_lexer": "ipython3",
   "version": "3.7.3"
  }
 },
 "nbformat": 4,
 "nbformat_minor": 2
}
