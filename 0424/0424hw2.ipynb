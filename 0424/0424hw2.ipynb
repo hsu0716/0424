{
 "cells": [
  {
   "cell_type": "code",
   "execution_count": null,
   "metadata": {},
   "outputs": [],
   "source": [
    "print(\"請輸入1-100\")\n",
    "x=input()\n",
    "while True:\n",
    "    if x=='8':\n",
    "        print(\"答對了!\")\n",
    "        break\n",
    "    elif x=='q':\n",
    "        print(\"掰掰\")\n",
    "        break\n",
    "    else:\n",
    "        print(\"嗚嗚不對喔\")\n",
    "    continue"
   ]
  },
  {
   "cell_type": "code",
   "execution_count": null,
   "metadata": {},
   "outputs": [],
   "source": []
  }
 ],
 "metadata": {
  "kernelspec": {
   "display_name": "Python 3",
   "language": "python",
   "name": "python3"
  },
  "language_info": {
   "codemirror_mode": {
    "name": "ipython",
    "version": 3
   },
   "file_extension": ".py",
   "mimetype": "text/x-python",
   "name": "python",
   "nbconvert_exporter": "python",
   "pygments_lexer": "ipython3",
   "version": "3.7.3"
  }
 },
 "nbformat": 4,
 "nbformat_minor": 2
}
